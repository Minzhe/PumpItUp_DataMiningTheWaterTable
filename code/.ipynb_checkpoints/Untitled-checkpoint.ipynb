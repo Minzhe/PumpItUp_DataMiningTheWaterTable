{
 "cells": [
  {
   "cell_type": "markdown",
   "metadata": {},
   "source": [
    "### exploratory analysis"
   ]
  },
  {
   "cell_type": "code",
   "execution_count": 8,
   "metadata": {
    "collapsed": true
   },
   "outputs": [],
   "source": [
    "import pandas as pd\n",
    "from sklearn import preprocessing\n",
    "%matplotlib inline"
   ]
  },
  {
   "cell_type": "code",
   "execution_count": 3,
   "metadata": {
    "collapsed": false
   },
   "outputs": [],
   "source": [
    "###### read data\n",
    "train_values = pd.read_csv('../data/raw/Training_set_values.csv')\n",
    "train_labels = pd.read_csv('../data/raw/Training_set_labels.csv')\n",
    "train_values = train_values.set_index('id')\n",
    "train_labels = train_labels.set_index('id')\n",
    "train_data = pd.concat([train_values, train_labels], axis=1, join='inner', join_axes=[train_labels.index])\n",
    "train_data.sort_index(inplace=True)\n",
    "del train_values, train_labels"
   ]
  },
  {
   "cell_type": "code",
   "execution_count": 9,
   "metadata": {
    "collapsed": false
   },
   "outputs": [
    {
     "data": {
      "text/plain": [
       "<matplotlib.axes._subplots.AxesSubplot at 0x10f6713c8>"
      ]
     },
     "execution_count": 9,
     "metadata": {},
     "output_type": "execute_result"
    },
    {
     "data": {
      "image/png": "[encoded data removed]",
      "text/plain": [
       "<matplotlib.figure.Figure at 0x10f63c240>"
      ]
     },
     "metadata": {},
     "output_type": "display_data"
    }
   ],
   "source": [
    "###### exploratory analysis\n",
    "### label\n",
    "train_data.status_group.value_counts()\n",
    "label_code = preprocessing.LabelEncoder().fit(train_data.status_group)\n",
    "train_data.status_group = label_code.transform(train_data.status_group)\n",
    "train_data.status_group.value_counts().plot.bar() # distribution of three labels"
   ]
  },
  {
   "cell_type": "code",
   "execution_count": 10,
   "metadata": {
    "collapsed": false
   },
   "outputs": [
    {
     "data": {
      "text/plain": [
       "41639"
      ]
     },
     "execution_count": 10,
     "metadata": {},
     "output_type": "execute_result"
    }
   ],
   "source": [
    "### amount_tsh\n",
    "sum(train_data.amount_tsh == 0)"
   ]
  },
  {
   "cell_type": "code",
   "execution_count": null,
   "metadata": {
    "collapsed": true
   },
   "outputs": [],
   "source": [
    "### date_record\n",
    "# train_data.date_recorded = train_data.date_recorded.apply(lambda x: pd.to_datetime(x, format='%Y-%m-%d'))\n",
    "# train_data[['date_recorded', 'status_group']].plot()\n",
    "### funder\n",
    "# train_data.funder"
   ]
  },
  {
   "cell_type": "code",
   "execution_count": null,
   "metadata": {
    "collapsed": true
   },
   "outputs": [],
   "source": [
    "### gps_height\n",
    "train_data.gps_height.plot.bar()"
   ]
  }
 ],
 "metadata": {
  "anaconda-cloud": {},
  "kernelspec": {
   "display_name": "Python [conda root]",
   "language": "python",
   "name": "conda-root-py"
  },
  "language_info": {
   "codemirror_mode": {
    "name": "ipython",
    "version": 3
   },
   "file_extension": ".py",
   "mimetype": "text/x-python",
   "name": "python",
   "nbconvert_exporter": "python",
   "pygments_lexer": "ipython3",
   "version": "3.5.2"
  }
 },
 "nbformat": 4,
 "nbformat_minor": 1
}
